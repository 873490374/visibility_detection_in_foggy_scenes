{
 "cells": [
  {
   "cell_type": "code",
   "execution_count": 1,
   "metadata": {},
   "outputs": [
    {
     "name": "stderr",
     "output_type": "stream",
     "text": [
      "/home/chengxg/anaconda2/envs/zp_py3/lib/python3.6/site-packages/h5py/__init__.py:36: FutureWarning: Conversion of the second argument of issubdtype from `float` to `np.floating` is deprecated. In future, it will be treated as `np.float64 == np.dtype(float).type`.\n",
      "  from ._conv import register_converters as _register_converters\n",
      "Using TensorFlow backend.\n"
     ]
    }
   ],
   "source": [
    "from keras.preprocessing import image\n",
    "from keras.models import Model, model_from_json\n",
    "from keras.layers import Dense, GlobalAveragePooling2D, Dropout, Flatten, AveragePooling2D\n",
    "from keras import backend as K\n",
    "from keras.callbacks import ModelCheckpoint\n",
    "from keras.preprocessing.image import ImageDataGenerator\n",
    "from keras.optimizers import Adam\n",
    "import numpy as np\n",
    "import pandas as pd\n",
    "import cv2\n",
    "import math\n",
    "import scipy.io as scio\n",
    "import os\n",
    "import matplotlib.pyplot as plt\n",
    "%matplotlib inline\n",
    "from utils import generate_generator, gen_img_paths_and_labels, loss_APE, LossHistory, SaveModelOnAPE\n",
    "from sklearn.utils import shuffle\n"
   ]
  },
  {
   "cell_type": "code",
   "execution_count": 8,
   "metadata": {},
   "outputs": [
    {
     "name": "stdout",
     "output_type": "stream",
     "text": [
      "1\n",
      "2400 9600\n",
      "Saving...\n",
      "2\n",
      "2760 11040\n",
      "Saving...\n",
      "3\n",
      "2760 11040\n",
      "Saving...\n",
      "4\n",
      "2160 8640\n",
      "Saving...\n",
      "5\n",
      "1800 7200\n",
      "Saving...\n",
      "6\n",
      "1560 6240\n",
      "Saving...\n"
     ]
    }
   ],
   "source": [
    "# Generate the random indices for validation\n",
    "split_idx = (np.asarray([0, 2400, 5160, 7920, 10080, 11880, 13440])*5).tolist()\n",
    "idx_validate = 1\n",
    "for idx_validate in range(1, 7):\n",
    "    print(idx_validate)\n",
    "    valid_idx_for_test = list(range(split_idx[idx_validate - 1], split_idx[idx_validate]))\n",
    "    num_5_sec = 0\n",
    "    indices_test = []\n",
    "    for idx_del_0_5 in range(len(valid_idx_for_test)-1, -1, -1):\n",
    "        if idx_del_0_5 % 5 == 0:\n",
    "            valid_idx_for_test.pop(idx_del_0_5)\n",
    "            num_5_sec += 1\n",
    "            indices_test.append(idx_del_0_5)\n",
    "    indices_test = sorted(indices_test, reverse=True)\n",
    "    # Now the list has removed the elements whose indices are *0s or *5s\n",
    "    # Then I need a for loop to randomly select one element from each 2 minutes.\n",
    "    print(num_5_sec, len(valid_idx_for_test))\n",
    "    indices_rand = []\n",
    "    for i in range(0, num_5_sec*4, 4*12*2):\n",
    "        indices_rand.append(valid_idx_for_test[i+0: i+4*12*2][np.random.randint(0, 4*12*2)] - split_idx[idx_validate])\n",
    "    print('Saving...')\n",
    "    np.savetxt('./indices_test_or_5_val_{}.txt'.format(idx_validate), indices_test)\n",
    "    np.savetxt('./indices_rand_val_no_5_val_{}.txt'.format(idx_validate), indices_rand)"
   ]
  },
  {
   "cell_type": "code",
   "execution_count": 9,
   "metadata": {},
   "outputs": [
    {
     "name": "stdout",
     "output_type": "stream",
     "text": [
      "data[:3]:\n",
      "    index                                          img_path      label  sensor\n",
      "0      0  ./split_frames_new/1_point_05/1_point_05_0_0.jpg  72.895116       0\n",
      "1      1  ./split_frames_new/1_point_05/1_point_05_0_1.jpg  72.895116       0\n",
      "2      2  ./split_frames_new/1_point_05/1_point_05_0_2.jpg  72.895116       0\n",
      "len(train_paths), len(train_labels): 53400 53400\n",
      "len(validate_paths), len(validate_labels): 115 115\n",
      "len(test_paths), len(test_labels): 13800 13800\n"
     ]
    }
   ],
   "source": [
    "# Data import\n",
    "split_idx = (np.asarray([0, 2400, 5160, 7920, 10080, 11880, 13440])*5).tolist()\n",
    "idx_validate = 2\n",
    "data = pd.read_excel('./imgPaths_labels_isSensor_new.xlsx')\n",
    "paths, labels, sensor = data['img_path'], data['label'], data['sensor']\n",
    "paths = np.squeeze(np.asarray(paths)).tolist()\n",
    "labels = np.squeeze(np.asarray(labels)).tolist()\n",
    "sensor = np.squeeze(np.asarray(sensor)).tolist()\n",
    "train_paths = paths[:split_idx[idx_validate-1]] + paths[split_idx[idx_validate]:]\n",
    "test_paths = paths[split_idx[idx_validate-1]:split_idx[idx_validate]]\n",
    "train_labels = labels[:split_idx[idx_validate-1]] + labels[split_idx[idx_validate]:]\n",
    "test_labels = labels[split_idx[idx_validate-1]:split_idx[idx_validate]]\n",
    "train_sensor = sensor[:split_idx[idx_validate-1]] + sensor[split_idx[idx_validate]:]\n",
    "test_sensor = sensor[split_idx[idx_validate-1]:split_idx[idx_validate]]\n",
    "\n",
    "test_paths = np.asarray(test_paths).reshape(len(test_paths), 1)\n",
    "test_labels= np.asarray(test_labels).reshape(len(test_labels), 1)\n",
    "\n",
    "idx_real = np.where(np.asarray(test_sensor) == 1)\n",
    "test_paths_real = test_paths[idx_real]\n",
    "test_labels_real = test_labels[idx_real]\n",
    "idx_validate = np.loadtxt('./indices_rand_val_no_5_val_{}.txt'.format(idx_validate)).astype(int)\n",
    "validate_paths = test_paths[idx_validate]\n",
    "validate_labels = test_labels[idx_validate]\n",
    "\n",
    "test_paths = np.squeeze(test_paths).tolist()\n",
    "test_labels = np.squeeze(test_labels).tolist()\n",
    "test_paths_real = np.squeeze(test_paths_real).tolist()\n",
    "test_labels_real = np.squeeze(test_labels_real).tolist()\n",
    "\n",
    "validate_paths, validate_labels = np.squeeze(validate_paths).tolist(), np.squeeze(validate_labels).tolist()\n",
    "\n",
    "print('data[:3]:\\n', data[:3])\n",
    "print('len(train_paths), len(train_labels):', len(train_paths), len(train_labels))\n",
    "print('len(validate_paths), len(validate_labels):', len(validate_paths), len(validate_labels))\n",
    "print('len(test_paths), len(test_labels):', len(test_paths), len(test_labels))"
   ]
  },
  {
   "cell_type": "code",
   "execution_count": 10,
   "metadata": {},
   "outputs": [
    {
     "name": "stdout",
     "output_type": "stream",
     "text": [
      "data[:3]:\n",
      "    index                                          img_path      label  sensor\n",
      "0      0  ./split_frames_new/1_point_05/1_point_05_0_0.jpg  72.895116       0\n",
      "1      1  ./split_frames_new/1_point_05/1_point_05_0_1.jpg  72.895116       0\n",
      "2      2  ./split_frames_new/1_point_05/1_point_05_0_2.jpg  72.895116       0\n",
      "len(train_paths), len(train_labels): 55200 55200\n",
      "len(validate_paths), len(validate_labels): 100 100\n",
      "len(test_paths), len(test_labels): 12000 12000\n"
     ]
    }
   ],
   "source": [
    "# Data import\n",
    "split_idx = (np.asarray([0, 2400, 5160, 7920, 10080, 11880, 13440])*5).tolist()\n",
    "idx_validate = 1\n",
    "data = pd.read_excel('./imgPaths_labels_isSensor_new.xlsx')\n",
    "paths, labels, sensor = data['img_path'], data['label'], data['sensor']\n",
    "paths = np.squeeze(np.asarray(paths)).tolist()\n",
    "labels = np.squeeze(np.asarray(labels)).tolist()\n",
    "sensor = np.squeeze(np.asarray(sensor)).tolist()\n",
    "train_paths = paths[:split_idx[idx_validate-1]] + paths[split_idx[idx_validate]:]\n",
    "test_paths = paths[split_idx[idx_validate-1]:split_idx[idx_validate]]\n",
    "train_labels = labels[:split_idx[idx_validate-1]] + labels[split_idx[idx_validate]:]\n",
    "test_labels = labels[split_idx[idx_validate-1]:split_idx[idx_validate]]\n",
    "train_sensor = sensor[:split_idx[idx_validate-1]] + sensor[split_idx[idx_validate]:]\n",
    "test_sensor = sensor[split_idx[idx_validate-1]:split_idx[idx_validate]]\n",
    "\n",
    "test_paths = np.asarray(test_paths).reshape(len(test_paths), 1)\n",
    "test_labels= np.asarray(test_labels).reshape(len(test_labels), 1)\n",
    "\n",
    "idx_real = np.where(np.asarray(test_sensor) == 1)\n",
    "test_paths_real = test_paths[idx_real]\n",
    "test_labels_real = test_labels[idx_real]\n",
    "idx_validate = np.loadtxt('./indices_rand_val_no_5_val_{}.txt'.format(idx_validate)).astype(int)\n",
    "validate_paths = test_paths[idx_validate]\n",
    "validate_labels = test_labels[idx_validate]\n",
    "\n",
    "test_paths = np.squeeze(test_paths).tolist()\n",
    "test_labels = np.squeeze(test_labels).tolist()\n",
    "test_paths_real = np.squeeze(test_paths_real).tolist()\n",
    "test_labels_real = np.squeeze(test_labels_real).tolist()\n",
    "\n",
    "validate_paths, validate_labels = np.squeeze(validate_paths).tolist(), np.squeeze(validate_labels).tolist()\n",
    "\n",
    "print('data[:3]:\\n', data[:3])\n",
    "print('len(train_paths), len(train_labels):', len(train_paths), len(train_labels))\n",
    "print('len(validate_paths), len(validate_labels):', len(validate_paths), len(validate_labels))\n",
    "print('len(test_paths), len(test_labels):', len(test_paths), len(test_labels))"
   ]
  },
  {
   "cell_type": "code",
   "execution_count": 11,
   "metadata": {},
   "outputs": [],
   "source": [
    "import random"
   ]
  },
  {
   "cell_type": "code",
   "execution_count": 15,
   "metadata": {},
   "outputs": [],
   "source": [
    "from sklearn.utils import shuffle"
   ]
  },
  {
   "cell_type": "code",
   "execution_count": 16,
   "metadata": {},
   "outputs": [
    {
     "data": {
      "text/plain": [
       "[0, 4, 5, 2, 3, 8, 6, 1, 7, 9]"
      ]
     },
     "execution_count": 16,
     "metadata": {},
     "output_type": "execute_result"
    }
   ],
   "source": [
    "shuffle(range(10))"
   ]
  }
 ],
 "metadata": {
  "kernelspec": {
   "display_name": "Python 3",
   "language": "python",
   "name": "python3"
  },
  "language_info": {
   "codemirror_mode": {
    "name": "ipython",
    "version": 3
   },
   "file_extension": ".py",
   "mimetype": "text/x-python",
   "name": "python",
   "nbconvert_exporter": "python",
   "pygments_lexer": "ipython3",
   "version": "3.6.5"
  }
 },
 "nbformat": 4,
 "nbformat_minor": 2
}
